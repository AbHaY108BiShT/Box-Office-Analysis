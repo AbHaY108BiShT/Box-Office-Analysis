{
 "cells": [
  {
   "cell_type": "markdown",
   "id": "4ef43fa7",
   "metadata": {},
   "source": [
    "<Center style=\"font-family: 'Helvetica Neue' ;font-size:35px; letter-spacing: 0.0625em ; color:white;background-image:url('black.jpg');padding:10px\">Box Office Revenue Analysis</Center>"
   ]
  },
  {
   "cell_type": "markdown",
   "id": "054a0e3d",
   "metadata": {},
   "source": [
    "<img src=\"box.jfif\" width=\"2000px\"></img>"
   ]
  },
  {
   "cell_type": "markdown",
   "id": "ce166df8",
   "metadata": {},
   "source": [
    "# Imports"
   ]
  },
  {
   "cell_type": "code",
   "execution_count": 1,
   "id": "5191d77a",
   "metadata": {},
   "outputs": [],
   "source": [
    "import numpy as np\n",
    "import pandas as pd\n",
    "import matplotlib.pyplot as plt\n",
    "plt.style.use(\"dark_background\")\n",
    "import seaborn as sns"
   ]
  },
  {
   "cell_type": "markdown",
   "id": "a3c699c6",
   "metadata": {},
   "source": [
    "# Data Loading"
   ]
  },
  {
   "cell_type": "code",
   "execution_count": 2,
   "id": "0ab55a36",
   "metadata": {
    "scrolled": false
   },
   "outputs": [
    {
     "data": {
      "text/html": [
       "<div>\n",
       "<style scoped>\n",
       "    .dataframe tbody tr th:only-of-type {\n",
       "        vertical-align: middle;\n",
       "    }\n",
       "\n",
       "    .dataframe tbody tr th {\n",
       "        vertical-align: top;\n",
       "    }\n",
       "\n",
       "    .dataframe thead th {\n",
       "        text-align: right;\n",
       "    }\n",
       "</style>\n",
       "<table border=\"1\" class=\"dataframe\">\n",
       "  <thead>\n",
       "    <tr style=\"text-align: right;\">\n",
       "      <th></th>\n",
       "      <th>id</th>\n",
       "      <th>belongs_to_collection</th>\n",
       "      <th>budget</th>\n",
       "      <th>genres</th>\n",
       "      <th>homepage</th>\n",
       "      <th>imdb_id</th>\n",
       "      <th>original_language</th>\n",
       "      <th>original_title</th>\n",
       "      <th>overview</th>\n",
       "      <th>popularity</th>\n",
       "      <th>...</th>\n",
       "      <th>release_date</th>\n",
       "      <th>runtime</th>\n",
       "      <th>spoken_languages</th>\n",
       "      <th>status</th>\n",
       "      <th>tagline</th>\n",
       "      <th>title</th>\n",
       "      <th>Keywords</th>\n",
       "      <th>cast</th>\n",
       "      <th>crew</th>\n",
       "      <th>revenue</th>\n",
       "    </tr>\n",
       "  </thead>\n",
       "  <tbody>\n",
       "    <tr>\n",
       "      <th>0</th>\n",
       "      <td>1</td>\n",
       "      <td>[{'id': 313576, 'name': 'Hot Tub Time Machine ...</td>\n",
       "      <td>14000000</td>\n",
       "      <td>[{'id': 35, 'name': 'Comedy'}]</td>\n",
       "      <td>NaN</td>\n",
       "      <td>tt2637294</td>\n",
       "      <td>en</td>\n",
       "      <td>Hot Tub Time Machine 2</td>\n",
       "      <td>When Lou, who has become the \"father of the In...</td>\n",
       "      <td>6.575393</td>\n",
       "      <td>...</td>\n",
       "      <td>2/20/15</td>\n",
       "      <td>93.0</td>\n",
       "      <td>[{'iso_639_1': 'en', 'name': 'English'}]</td>\n",
       "      <td>Released</td>\n",
       "      <td>The Laws of Space and Time are About to be Vio...</td>\n",
       "      <td>Hot Tub Time Machine 2</td>\n",
       "      <td>[{'id': 4379, 'name': 'time travel'}, {'id': 9...</td>\n",
       "      <td>[{'cast_id': 4, 'character': 'Lou', 'credit_id...</td>\n",
       "      <td>[{'credit_id': '59ac067c92514107af02c8c8', 'de...</td>\n",
       "      <td>12314651</td>\n",
       "    </tr>\n",
       "    <tr>\n",
       "      <th>1</th>\n",
       "      <td>2</td>\n",
       "      <td>[{'id': 107674, 'name': 'The Princess Diaries ...</td>\n",
       "      <td>40000000</td>\n",
       "      <td>[{'id': 35, 'name': 'Comedy'}, {'id': 18, 'nam...</td>\n",
       "      <td>NaN</td>\n",
       "      <td>tt0368933</td>\n",
       "      <td>en</td>\n",
       "      <td>The Princess Diaries 2: Royal Engagement</td>\n",
       "      <td>Mia Thermopolis is now a college graduate and ...</td>\n",
       "      <td>8.248895</td>\n",
       "      <td>...</td>\n",
       "      <td>8/6/04</td>\n",
       "      <td>113.0</td>\n",
       "      <td>[{'iso_639_1': 'en', 'name': 'English'}]</td>\n",
       "      <td>Released</td>\n",
       "      <td>It can take a lifetime to find true love; she'...</td>\n",
       "      <td>The Princess Diaries 2: Royal Engagement</td>\n",
       "      <td>[{'id': 2505, 'name': 'coronation'}, {'id': 42...</td>\n",
       "      <td>[{'cast_id': 1, 'character': 'Mia Thermopolis'...</td>\n",
       "      <td>[{'credit_id': '52fe43fe9251416c7502563d', 'de...</td>\n",
       "      <td>95149435</td>\n",
       "    </tr>\n",
       "    <tr>\n",
       "      <th>2</th>\n",
       "      <td>3</td>\n",
       "      <td>NaN</td>\n",
       "      <td>3300000</td>\n",
       "      <td>[{'id': 18, 'name': 'Drama'}]</td>\n",
       "      <td>http://sonyclassics.com/whiplash/</td>\n",
       "      <td>tt2582802</td>\n",
       "      <td>en</td>\n",
       "      <td>Whiplash</td>\n",
       "      <td>Under the direction of a ruthless instructor, ...</td>\n",
       "      <td>64.299990</td>\n",
       "      <td>...</td>\n",
       "      <td>10/10/14</td>\n",
       "      <td>105.0</td>\n",
       "      <td>[{'iso_639_1': 'en', 'name': 'English'}]</td>\n",
       "      <td>Released</td>\n",
       "      <td>The road to greatness can take you to the edge.</td>\n",
       "      <td>Whiplash</td>\n",
       "      <td>[{'id': 1416, 'name': 'jazz'}, {'id': 1523, 'n...</td>\n",
       "      <td>[{'cast_id': 5, 'character': 'Andrew Neimann',...</td>\n",
       "      <td>[{'credit_id': '54d5356ec3a3683ba0000039', 'de...</td>\n",
       "      <td>13092000</td>\n",
       "    </tr>\n",
       "    <tr>\n",
       "      <th>3</th>\n",
       "      <td>4</td>\n",
       "      <td>NaN</td>\n",
       "      <td>1200000</td>\n",
       "      <td>[{'id': 53, 'name': 'Thriller'}, {'id': 18, 'n...</td>\n",
       "      <td>http://kahaanithefilm.com/</td>\n",
       "      <td>tt1821480</td>\n",
       "      <td>hi</td>\n",
       "      <td>Kahaani</td>\n",
       "      <td>Vidya Bagchi (Vidya Balan) arrives in Kolkata ...</td>\n",
       "      <td>3.174936</td>\n",
       "      <td>...</td>\n",
       "      <td>3/9/12</td>\n",
       "      <td>122.0</td>\n",
       "      <td>[{'iso_639_1': 'en', 'name': 'English'}, {'iso...</td>\n",
       "      <td>Released</td>\n",
       "      <td>NaN</td>\n",
       "      <td>Kahaani</td>\n",
       "      <td>[{'id': 10092, 'name': 'mystery'}, {'id': 1054...</td>\n",
       "      <td>[{'cast_id': 1, 'character': 'Vidya Bagchi', '...</td>\n",
       "      <td>[{'credit_id': '52fe48779251416c9108d6eb', 'de...</td>\n",
       "      <td>16000000</td>\n",
       "    </tr>\n",
       "    <tr>\n",
       "      <th>4</th>\n",
       "      <td>5</td>\n",
       "      <td>NaN</td>\n",
       "      <td>0</td>\n",
       "      <td>[{'id': 28, 'name': 'Action'}, {'id': 53, 'nam...</td>\n",
       "      <td>NaN</td>\n",
       "      <td>tt1380152</td>\n",
       "      <td>ko</td>\n",
       "      <td>마린보이</td>\n",
       "      <td>Marine Boy is the story of a former national s...</td>\n",
       "      <td>1.148070</td>\n",
       "      <td>...</td>\n",
       "      <td>2/5/09</td>\n",
       "      <td>118.0</td>\n",
       "      <td>[{'iso_639_1': 'ko', 'name': '한국어/조선말'}]</td>\n",
       "      <td>Released</td>\n",
       "      <td>NaN</td>\n",
       "      <td>Marine Boy</td>\n",
       "      <td>NaN</td>\n",
       "      <td>[{'cast_id': 3, 'character': 'Chun-soo', 'cred...</td>\n",
       "      <td>[{'credit_id': '52fe464b9251416c75073b43', 'de...</td>\n",
       "      <td>3923970</td>\n",
       "    </tr>\n",
       "  </tbody>\n",
       "</table>\n",
       "<p>5 rows × 23 columns</p>\n",
       "</div>"
      ],
      "text/plain": [
       "   id                              belongs_to_collection    budget  \\\n",
       "0   1  [{'id': 313576, 'name': 'Hot Tub Time Machine ...  14000000   \n",
       "1   2  [{'id': 107674, 'name': 'The Princess Diaries ...  40000000   \n",
       "2   3                                                NaN   3300000   \n",
       "3   4                                                NaN   1200000   \n",
       "4   5                                                NaN         0   \n",
       "\n",
       "                                              genres  \\\n",
       "0                     [{'id': 35, 'name': 'Comedy'}]   \n",
       "1  [{'id': 35, 'name': 'Comedy'}, {'id': 18, 'nam...   \n",
       "2                      [{'id': 18, 'name': 'Drama'}]   \n",
       "3  [{'id': 53, 'name': 'Thriller'}, {'id': 18, 'n...   \n",
       "4  [{'id': 28, 'name': 'Action'}, {'id': 53, 'nam...   \n",
       "\n",
       "                            homepage    imdb_id original_language  \\\n",
       "0                                NaN  tt2637294                en   \n",
       "1                                NaN  tt0368933                en   \n",
       "2  http://sonyclassics.com/whiplash/  tt2582802                en   \n",
       "3         http://kahaanithefilm.com/  tt1821480                hi   \n",
       "4                                NaN  tt1380152                ko   \n",
       "\n",
       "                             original_title  \\\n",
       "0                    Hot Tub Time Machine 2   \n",
       "1  The Princess Diaries 2: Royal Engagement   \n",
       "2                                  Whiplash   \n",
       "3                                   Kahaani   \n",
       "4                                      마린보이   \n",
       "\n",
       "                                            overview  popularity  ...  \\\n",
       "0  When Lou, who has become the \"father of the In...    6.575393  ...   \n",
       "1  Mia Thermopolis is now a college graduate and ...    8.248895  ...   \n",
       "2  Under the direction of a ruthless instructor, ...   64.299990  ...   \n",
       "3  Vidya Bagchi (Vidya Balan) arrives in Kolkata ...    3.174936  ...   \n",
       "4  Marine Boy is the story of a former national s...    1.148070  ...   \n",
       "\n",
       "  release_date runtime                                   spoken_languages  \\\n",
       "0      2/20/15    93.0           [{'iso_639_1': 'en', 'name': 'English'}]   \n",
       "1       8/6/04   113.0           [{'iso_639_1': 'en', 'name': 'English'}]   \n",
       "2     10/10/14   105.0           [{'iso_639_1': 'en', 'name': 'English'}]   \n",
       "3       3/9/12   122.0  [{'iso_639_1': 'en', 'name': 'English'}, {'iso...   \n",
       "4       2/5/09   118.0           [{'iso_639_1': 'ko', 'name': '한국어/조선말'}]   \n",
       "\n",
       "     status                                            tagline  \\\n",
       "0  Released  The Laws of Space and Time are About to be Vio...   \n",
       "1  Released  It can take a lifetime to find true love; she'...   \n",
       "2  Released    The road to greatness can take you to the edge.   \n",
       "3  Released                                                NaN   \n",
       "4  Released                                                NaN   \n",
       "\n",
       "                                      title  \\\n",
       "0                    Hot Tub Time Machine 2   \n",
       "1  The Princess Diaries 2: Royal Engagement   \n",
       "2                                  Whiplash   \n",
       "3                                   Kahaani   \n",
       "4                                Marine Boy   \n",
       "\n",
       "                                            Keywords  \\\n",
       "0  [{'id': 4379, 'name': 'time travel'}, {'id': 9...   \n",
       "1  [{'id': 2505, 'name': 'coronation'}, {'id': 42...   \n",
       "2  [{'id': 1416, 'name': 'jazz'}, {'id': 1523, 'n...   \n",
       "3  [{'id': 10092, 'name': 'mystery'}, {'id': 1054...   \n",
       "4                                                NaN   \n",
       "\n",
       "                                                cast  \\\n",
       "0  [{'cast_id': 4, 'character': 'Lou', 'credit_id...   \n",
       "1  [{'cast_id': 1, 'character': 'Mia Thermopolis'...   \n",
       "2  [{'cast_id': 5, 'character': 'Andrew Neimann',...   \n",
       "3  [{'cast_id': 1, 'character': 'Vidya Bagchi', '...   \n",
       "4  [{'cast_id': 3, 'character': 'Chun-soo', 'cred...   \n",
       "\n",
       "                                                crew   revenue  \n",
       "0  [{'credit_id': '59ac067c92514107af02c8c8', 'de...  12314651  \n",
       "1  [{'credit_id': '52fe43fe9251416c7502563d', 'de...  95149435  \n",
       "2  [{'credit_id': '54d5356ec3a3683ba0000039', 'de...  13092000  \n",
       "3  [{'credit_id': '52fe48779251416c9108d6eb', 'de...  16000000  \n",
       "4  [{'credit_id': '52fe464b9251416c75073b43', 'de...   3923970  \n",
       "\n",
       "[5 rows x 23 columns]"
      ]
     },
     "execution_count": 2,
     "metadata": {},
     "output_type": "execute_result"
    }
   ],
   "source": [
    "data = pd.read_csv(\"train.csv\")\n",
    "data.head()"
   ]
  },
  {
   "cell_type": "markdown",
   "id": "0ba411c4",
   "metadata": {},
   "source": [
    "# Shape Of Data"
   ]
  },
  {
   "cell_type": "code",
   "execution_count": 3,
   "id": "7cca5b88",
   "metadata": {},
   "outputs": [
    {
     "data": {
      "text/plain": [
       "(3000, 23)"
      ]
     },
     "execution_count": 3,
     "metadata": {},
     "output_type": "execute_result"
    }
   ],
   "source": [
    "data.shape"
   ]
  },
  {
   "cell_type": "markdown",
   "id": "5d9c51b1",
   "metadata": {},
   "source": [
    "<Font color=\"gray\">- 3000 rows\n",
    "</Font><br/>\n",
    "<Font color=\"gray\">- 23 columns\n",
    "</Font>"
   ]
  },
  {
   "cell_type": "markdown",
   "id": "a5fc6533",
   "metadata": {},
   "source": [
    "# Data Info"
   ]
  },
  {
   "cell_type": "code",
   "execution_count": 4,
   "id": "5197138c",
   "metadata": {
    "scrolled": false
   },
   "outputs": [
    {
     "name": "stdout",
     "output_type": "stream",
     "text": [
      "<class 'pandas.core.frame.DataFrame'>\n",
      "RangeIndex: 3000 entries, 0 to 2999\n",
      "Data columns (total 23 columns):\n",
      " #   Column                 Non-Null Count  Dtype  \n",
      "---  ------                 --------------  -----  \n",
      " 0   id                     3000 non-null   int64  \n",
      " 1   belongs_to_collection  604 non-null    object \n",
      " 2   budget                 3000 non-null   int64  \n",
      " 3   genres                 2993 non-null   object \n",
      " 4   homepage               946 non-null    object \n",
      " 5   imdb_id                3000 non-null   object \n",
      " 6   original_language      3000 non-null   object \n",
      " 7   original_title         3000 non-null   object \n",
      " 8   overview               2992 non-null   object \n",
      " 9   popularity             3000 non-null   float64\n",
      " 10  poster_path            2999 non-null   object \n",
      " 11  production_companies   2844 non-null   object \n",
      " 12  production_countries   2945 non-null   object \n",
      " 13  release_date           3000 non-null   object \n",
      " 14  runtime                2998 non-null   float64\n",
      " 15  spoken_languages       2980 non-null   object \n",
      " 16  status                 3000 non-null   object \n",
      " 17  tagline                2403 non-null   object \n",
      " 18  title                  3000 non-null   object \n",
      " 19  Keywords               2724 non-null   object \n",
      " 20  cast                   2987 non-null   object \n",
      " 21  crew                   2984 non-null   object \n",
      " 22  revenue                3000 non-null   int64  \n",
      "dtypes: float64(2), int64(3), object(18)\n",
      "memory usage: 539.2+ KB\n"
     ]
    }
   ],
   "source": [
    "data.info()"
   ]
  },
  {
   "cell_type": "markdown",
   "id": "2a0b91dc",
   "metadata": {},
   "source": [
    "# Null Values"
   ]
  },
  {
   "cell_type": "code",
   "execution_count": 5,
   "id": "856450e8",
   "metadata": {
    "scrolled": false
   },
   "outputs": [
    {
     "name": "stdout",
     "output_type": "stream",
     "text": [
      "True\n",
      "id                          0\n",
      "belongs_to_collection    2396\n",
      "budget                      0\n",
      "genres                      7\n",
      "homepage                 2054\n",
      "imdb_id                     0\n",
      "original_language           0\n",
      "original_title              0\n",
      "overview                    8\n",
      "popularity                  0\n",
      "poster_path                 1\n",
      "production_companies      156\n",
      "production_countries       55\n",
      "release_date                0\n",
      "runtime                     2\n",
      "spoken_languages           20\n",
      "status                      0\n",
      "tagline                   597\n",
      "title                       0\n",
      "Keywords                  276\n",
      "cast                       13\n",
      "crew                       16\n",
      "revenue                     0\n",
      "dtype: int64\n"
     ]
    }
   ],
   "source": [
    "print(data.isnull().values.any())\n",
    "print(data.isnull().sum())"
   ]
  },
  {
   "cell_type": "markdown",
   "id": "6e02e772",
   "metadata": {},
   "source": [
    "<Font color=\"gray\">- There are no Null values\n",
    "</Font>"
   ]
  },
  {
   "cell_type": "markdown",
   "id": "0d99444f",
   "metadata": {},
   "source": [
    "# Describe"
   ]
  },
  {
   "cell_type": "code",
   "execution_count": 6,
   "id": "6240c569",
   "metadata": {
    "scrolled": true
   },
   "outputs": [
    {
     "data": {
      "text/html": [
       "<div>\n",
       "<style scoped>\n",
       "    .dataframe tbody tr th:only-of-type {\n",
       "        vertical-align: middle;\n",
       "    }\n",
       "\n",
       "    .dataframe tbody tr th {\n",
       "        vertical-align: top;\n",
       "    }\n",
       "\n",
       "    .dataframe thead th {\n",
       "        text-align: right;\n",
       "    }\n",
       "</style>\n",
       "<table border=\"1\" class=\"dataframe\">\n",
       "  <thead>\n",
       "    <tr style=\"text-align: right;\">\n",
       "      <th></th>\n",
       "      <th>id</th>\n",
       "      <th>budget</th>\n",
       "      <th>popularity</th>\n",
       "      <th>runtime</th>\n",
       "      <th>revenue</th>\n",
       "    </tr>\n",
       "  </thead>\n",
       "  <tbody>\n",
       "    <tr>\n",
       "      <th>count</th>\n",
       "      <td>3000.000000</td>\n",
       "      <td>3.000000e+03</td>\n",
       "      <td>3000.000000</td>\n",
       "      <td>2998.000000</td>\n",
       "      <td>3.000000e+03</td>\n",
       "    </tr>\n",
       "    <tr>\n",
       "      <th>mean</th>\n",
       "      <td>1500.500000</td>\n",
       "      <td>2.253133e+07</td>\n",
       "      <td>8.463274</td>\n",
       "      <td>107.856571</td>\n",
       "      <td>6.672585e+07</td>\n",
       "    </tr>\n",
       "    <tr>\n",
       "      <th>std</th>\n",
       "      <td>866.169729</td>\n",
       "      <td>3.702609e+07</td>\n",
       "      <td>12.104000</td>\n",
       "      <td>22.086434</td>\n",
       "      <td>1.375323e+08</td>\n",
       "    </tr>\n",
       "    <tr>\n",
       "      <th>min</th>\n",
       "      <td>1.000000</td>\n",
       "      <td>0.000000e+00</td>\n",
       "      <td>0.000001</td>\n",
       "      <td>0.000000</td>\n",
       "      <td>1.000000e+00</td>\n",
       "    </tr>\n",
       "    <tr>\n",
       "      <th>25%</th>\n",
       "      <td>750.750000</td>\n",
       "      <td>0.000000e+00</td>\n",
       "      <td>4.018053</td>\n",
       "      <td>94.000000</td>\n",
       "      <td>2.379808e+06</td>\n",
       "    </tr>\n",
       "    <tr>\n",
       "      <th>50%</th>\n",
       "      <td>1500.500000</td>\n",
       "      <td>8.000000e+06</td>\n",
       "      <td>7.374861</td>\n",
       "      <td>104.000000</td>\n",
       "      <td>1.680707e+07</td>\n",
       "    </tr>\n",
       "    <tr>\n",
       "      <th>75%</th>\n",
       "      <td>2250.250000</td>\n",
       "      <td>2.900000e+07</td>\n",
       "      <td>10.890983</td>\n",
       "      <td>118.000000</td>\n",
       "      <td>6.891920e+07</td>\n",
       "    </tr>\n",
       "    <tr>\n",
       "      <th>max</th>\n",
       "      <td>3000.000000</td>\n",
       "      <td>3.800000e+08</td>\n",
       "      <td>294.337037</td>\n",
       "      <td>338.000000</td>\n",
       "      <td>1.519558e+09</td>\n",
       "    </tr>\n",
       "  </tbody>\n",
       "</table>\n",
       "</div>"
      ],
      "text/plain": [
       "                id        budget   popularity      runtime       revenue\n",
       "count  3000.000000  3.000000e+03  3000.000000  2998.000000  3.000000e+03\n",
       "mean   1500.500000  2.253133e+07     8.463274   107.856571  6.672585e+07\n",
       "std     866.169729  3.702609e+07    12.104000    22.086434  1.375323e+08\n",
       "min       1.000000  0.000000e+00     0.000001     0.000000  1.000000e+00\n",
       "25%     750.750000  0.000000e+00     4.018053    94.000000  2.379808e+06\n",
       "50%    1500.500000  8.000000e+06     7.374861   104.000000  1.680707e+07\n",
       "75%    2250.250000  2.900000e+07    10.890983   118.000000  6.891920e+07\n",
       "max    3000.000000  3.800000e+08   294.337037   338.000000  1.519558e+09"
      ]
     },
     "execution_count": 6,
     "metadata": {},
     "output_type": "execute_result"
    }
   ],
   "source": [
    "data.describe()"
   ]
  },
  {
   "cell_type": "markdown",
   "id": "5652b561",
   "metadata": {},
   "source": [
    "# Droping All Columns Having Values In Dictionary Format"
   ]
  },
  {
   "cell_type": "code",
   "execution_count": 7,
   "id": "cb08ebae",
   "metadata": {
    "scrolled": true
   },
   "outputs": [
    {
     "data": {
      "text/html": [
       "<div>\n",
       "<style scoped>\n",
       "    .dataframe tbody tr th:only-of-type {\n",
       "        vertical-align: middle;\n",
       "    }\n",
       "\n",
       "    .dataframe tbody tr th {\n",
       "        vertical-align: top;\n",
       "    }\n",
       "\n",
       "    .dataframe thead th {\n",
       "        text-align: right;\n",
       "    }\n",
       "</style>\n",
       "<table border=\"1\" class=\"dataframe\">\n",
       "  <thead>\n",
       "    <tr style=\"text-align: right;\">\n",
       "      <th></th>\n",
       "      <th>id</th>\n",
       "      <th>budget</th>\n",
       "      <th>imdb_id</th>\n",
       "      <th>original_language</th>\n",
       "      <th>original_title</th>\n",
       "      <th>popularity</th>\n",
       "      <th>poster_path</th>\n",
       "      <th>release_date</th>\n",
       "      <th>runtime</th>\n",
       "      <th>status</th>\n",
       "      <th>title</th>\n",
       "      <th>revenue</th>\n",
       "    </tr>\n",
       "  </thead>\n",
       "  <tbody>\n",
       "    <tr>\n",
       "      <th>0</th>\n",
       "      <td>1</td>\n",
       "      <td>14000000</td>\n",
       "      <td>tt2637294</td>\n",
       "      <td>en</td>\n",
       "      <td>Hot Tub Time Machine 2</td>\n",
       "      <td>6.575393</td>\n",
       "      <td>/tQtWuwvMf0hCc2QR2tkolwl7c3c.jpg</td>\n",
       "      <td>2/20/15</td>\n",
       "      <td>93.0</td>\n",
       "      <td>Released</td>\n",
       "      <td>Hot Tub Time Machine 2</td>\n",
       "      <td>12314651</td>\n",
       "    </tr>\n",
       "    <tr>\n",
       "      <th>1</th>\n",
       "      <td>2</td>\n",
       "      <td>40000000</td>\n",
       "      <td>tt0368933</td>\n",
       "      <td>en</td>\n",
       "      <td>The Princess Diaries 2: Royal Engagement</td>\n",
       "      <td>8.248895</td>\n",
       "      <td>/w9Z7A0GHEhIp7etpj0vyKOeU1Wx.jpg</td>\n",
       "      <td>8/6/04</td>\n",
       "      <td>113.0</td>\n",
       "      <td>Released</td>\n",
       "      <td>The Princess Diaries 2: Royal Engagement</td>\n",
       "      <td>95149435</td>\n",
       "    </tr>\n",
       "    <tr>\n",
       "      <th>2</th>\n",
       "      <td>3</td>\n",
       "      <td>3300000</td>\n",
       "      <td>tt2582802</td>\n",
       "      <td>en</td>\n",
       "      <td>Whiplash</td>\n",
       "      <td>64.299990</td>\n",
       "      <td>/lIv1QinFqz4dlp5U4lQ6HaiskOZ.jpg</td>\n",
       "      <td>10/10/14</td>\n",
       "      <td>105.0</td>\n",
       "      <td>Released</td>\n",
       "      <td>Whiplash</td>\n",
       "      <td>13092000</td>\n",
       "    </tr>\n",
       "    <tr>\n",
       "      <th>3</th>\n",
       "      <td>4</td>\n",
       "      <td>1200000</td>\n",
       "      <td>tt1821480</td>\n",
       "      <td>hi</td>\n",
       "      <td>Kahaani</td>\n",
       "      <td>3.174936</td>\n",
       "      <td>/aTXRaPrWSinhcmCrcfJK17urp3F.jpg</td>\n",
       "      <td>3/9/12</td>\n",
       "      <td>122.0</td>\n",
       "      <td>Released</td>\n",
       "      <td>Kahaani</td>\n",
       "      <td>16000000</td>\n",
       "    </tr>\n",
       "    <tr>\n",
       "      <th>4</th>\n",
       "      <td>5</td>\n",
       "      <td>0</td>\n",
       "      <td>tt1380152</td>\n",
       "      <td>ko</td>\n",
       "      <td>마린보이</td>\n",
       "      <td>1.148070</td>\n",
       "      <td>/m22s7zvkVFDU9ir56PiiqIEWFdT.jpg</td>\n",
       "      <td>2/5/09</td>\n",
       "      <td>118.0</td>\n",
       "      <td>Released</td>\n",
       "      <td>Marine Boy</td>\n",
       "      <td>3923970</td>\n",
       "    </tr>\n",
       "  </tbody>\n",
       "</table>\n",
       "</div>"
      ],
      "text/plain": [
       "   id    budget    imdb_id original_language  \\\n",
       "0   1  14000000  tt2637294                en   \n",
       "1   2  40000000  tt0368933                en   \n",
       "2   3   3300000  tt2582802                en   \n",
       "3   4   1200000  tt1821480                hi   \n",
       "4   5         0  tt1380152                ko   \n",
       "\n",
       "                             original_title  popularity  \\\n",
       "0                    Hot Tub Time Machine 2    6.575393   \n",
       "1  The Princess Diaries 2: Royal Engagement    8.248895   \n",
       "2                                  Whiplash   64.299990   \n",
       "3                                   Kahaani    3.174936   \n",
       "4                                      마린보이    1.148070   \n",
       "\n",
       "                        poster_path release_date  runtime    status  \\\n",
       "0  /tQtWuwvMf0hCc2QR2tkolwl7c3c.jpg      2/20/15     93.0  Released   \n",
       "1  /w9Z7A0GHEhIp7etpj0vyKOeU1Wx.jpg       8/6/04    113.0  Released   \n",
       "2  /lIv1QinFqz4dlp5U4lQ6HaiskOZ.jpg     10/10/14    105.0  Released   \n",
       "3  /aTXRaPrWSinhcmCrcfJK17urp3F.jpg       3/9/12    122.0  Released   \n",
       "4  /m22s7zvkVFDU9ir56PiiqIEWFdT.jpg       2/5/09    118.0  Released   \n",
       "\n",
       "                                      title   revenue  \n",
       "0                    Hot Tub Time Machine 2  12314651  \n",
       "1  The Princess Diaries 2: Royal Engagement  95149435  \n",
       "2                                  Whiplash  13092000  \n",
       "3                                   Kahaani  16000000  \n",
       "4                                Marine Boy   3923970  "
      ]
     },
     "execution_count": 7,
     "metadata": {},
     "output_type": "execute_result"
    }
   ],
   "source": [
    "data = data.drop(['belongs_to_collection', 'genres', \n",
    "                  'crew', 'cast', 'Keywords', \n",
    "                  'spoken_languages', 'production_companies', \n",
    "                  'production_countries', 'tagline','overview',\n",
    "                  'homepage'] , axis=1)\n",
    "data.head()"
   ]
  },
  {
   "cell_type": "markdown",
   "id": "e09b39d2",
   "metadata": {},
   "source": [
    "# Creating new columns release_day , release_month , release_year ,  release_weekday"
   ]
  },
  {
   "cell_type": "code",
   "execution_count": 8,
   "id": "c21317eb",
   "metadata": {},
   "outputs": [
    {
     "data": {
      "text/plain": [
       "0      2015-02-20\n",
       "1      2004-08-06\n",
       "2      2014-10-10\n",
       "3      2012-03-09\n",
       "4      2009-02-05\n",
       "          ...    \n",
       "2995   1994-04-22\n",
       "2996   2013-03-28\n",
       "2997   1996-10-11\n",
       "2998   2004-01-16\n",
       "2999   2011-09-22\n",
       "Name: release_date, Length: 3000, dtype: datetime64[ns]"
      ]
     },
     "execution_count": 8,
     "metadata": {},
     "output_type": "execute_result"
    }
   ],
   "source": [
    "pd.to_datetime(data[\"release_date\"])"
   ]
  },
  {
   "cell_type": "code",
   "execution_count": 9,
   "id": "8989012a",
   "metadata": {
    "scrolled": true
   },
   "outputs": [
    {
     "data": {
      "text/html": [
       "<div>\n",
       "<style scoped>\n",
       "    .dataframe tbody tr th:only-of-type {\n",
       "        vertical-align: middle;\n",
       "    }\n",
       "\n",
       "    .dataframe tbody tr th {\n",
       "        vertical-align: top;\n",
       "    }\n",
       "\n",
       "    .dataframe thead th {\n",
       "        text-align: right;\n",
       "    }\n",
       "</style>\n",
       "<table border=\"1\" class=\"dataframe\">\n",
       "  <thead>\n",
       "    <tr style=\"text-align: right;\">\n",
       "      <th></th>\n",
       "      <th>id</th>\n",
       "      <th>budget</th>\n",
       "      <th>imdb_id</th>\n",
       "      <th>original_language</th>\n",
       "      <th>original_title</th>\n",
       "      <th>popularity</th>\n",
       "      <th>poster_path</th>\n",
       "      <th>release_date</th>\n",
       "      <th>runtime</th>\n",
       "      <th>status</th>\n",
       "      <th>title</th>\n",
       "      <th>revenue</th>\n",
       "      <th>release_day</th>\n",
       "      <th>release_month</th>\n",
       "      <th>release_weekday</th>\n",
       "      <th>release_year</th>\n",
       "    </tr>\n",
       "  </thead>\n",
       "  <tbody>\n",
       "    <tr>\n",
       "      <th>0</th>\n",
       "      <td>1</td>\n",
       "      <td>14000000</td>\n",
       "      <td>tt2637294</td>\n",
       "      <td>en</td>\n",
       "      <td>Hot Tub Time Machine 2</td>\n",
       "      <td>6.575393</td>\n",
       "      <td>/tQtWuwvMf0hCc2QR2tkolwl7c3c.jpg</td>\n",
       "      <td>2015-02-20</td>\n",
       "      <td>93.0</td>\n",
       "      <td>Released</td>\n",
       "      <td>Hot Tub Time Machine 2</td>\n",
       "      <td>12314651</td>\n",
       "      <td>20</td>\n",
       "      <td>2</td>\n",
       "      <td>4</td>\n",
       "      <td>2015</td>\n",
       "    </tr>\n",
       "    <tr>\n",
       "      <th>1</th>\n",
       "      <td>2</td>\n",
       "      <td>40000000</td>\n",
       "      <td>tt0368933</td>\n",
       "      <td>en</td>\n",
       "      <td>The Princess Diaries 2: Royal Engagement</td>\n",
       "      <td>8.248895</td>\n",
       "      <td>/w9Z7A0GHEhIp7etpj0vyKOeU1Wx.jpg</td>\n",
       "      <td>2004-08-06</td>\n",
       "      <td>113.0</td>\n",
       "      <td>Released</td>\n",
       "      <td>The Princess Diaries 2: Royal Engagement</td>\n",
       "      <td>95149435</td>\n",
       "      <td>6</td>\n",
       "      <td>8</td>\n",
       "      <td>4</td>\n",
       "      <td>2004</td>\n",
       "    </tr>\n",
       "    <tr>\n",
       "      <th>2</th>\n",
       "      <td>3</td>\n",
       "      <td>3300000</td>\n",
       "      <td>tt2582802</td>\n",
       "      <td>en</td>\n",
       "      <td>Whiplash</td>\n",
       "      <td>64.299990</td>\n",
       "      <td>/lIv1QinFqz4dlp5U4lQ6HaiskOZ.jpg</td>\n",
       "      <td>2014-10-10</td>\n",
       "      <td>105.0</td>\n",
       "      <td>Released</td>\n",
       "      <td>Whiplash</td>\n",
       "      <td>13092000</td>\n",
       "      <td>10</td>\n",
       "      <td>10</td>\n",
       "      <td>4</td>\n",
       "      <td>2014</td>\n",
       "    </tr>\n",
       "    <tr>\n",
       "      <th>3</th>\n",
       "      <td>4</td>\n",
       "      <td>1200000</td>\n",
       "      <td>tt1821480</td>\n",
       "      <td>hi</td>\n",
       "      <td>Kahaani</td>\n",
       "      <td>3.174936</td>\n",
       "      <td>/aTXRaPrWSinhcmCrcfJK17urp3F.jpg</td>\n",
       "      <td>2012-03-09</td>\n",
       "      <td>122.0</td>\n",
       "      <td>Released</td>\n",
       "      <td>Kahaani</td>\n",
       "      <td>16000000</td>\n",
       "      <td>9</td>\n",
       "      <td>3</td>\n",
       "      <td>4</td>\n",
       "      <td>2012</td>\n",
       "    </tr>\n",
       "    <tr>\n",
       "      <th>4</th>\n",
       "      <td>5</td>\n",
       "      <td>0</td>\n",
       "      <td>tt1380152</td>\n",
       "      <td>ko</td>\n",
       "      <td>마린보이</td>\n",
       "      <td>1.148070</td>\n",
       "      <td>/m22s7zvkVFDU9ir56PiiqIEWFdT.jpg</td>\n",
       "      <td>2009-02-05</td>\n",
       "      <td>118.0</td>\n",
       "      <td>Released</td>\n",
       "      <td>Marine Boy</td>\n",
       "      <td>3923970</td>\n",
       "      <td>5</td>\n",
       "      <td>2</td>\n",
       "      <td>3</td>\n",
       "      <td>2009</td>\n",
       "    </tr>\n",
       "  </tbody>\n",
       "</table>\n",
       "</div>"
      ],
      "text/plain": [
       "   id    budget    imdb_id original_language  \\\n",
       "0   1  14000000  tt2637294                en   \n",
       "1   2  40000000  tt0368933                en   \n",
       "2   3   3300000  tt2582802                en   \n",
       "3   4   1200000  tt1821480                hi   \n",
       "4   5         0  tt1380152                ko   \n",
       "\n",
       "                             original_title  popularity  \\\n",
       "0                    Hot Tub Time Machine 2    6.575393   \n",
       "1  The Princess Diaries 2: Royal Engagement    8.248895   \n",
       "2                                  Whiplash   64.299990   \n",
       "3                                   Kahaani    3.174936   \n",
       "4                                      마린보이    1.148070   \n",
       "\n",
       "                        poster_path release_date  runtime    status  \\\n",
       "0  /tQtWuwvMf0hCc2QR2tkolwl7c3c.jpg   2015-02-20     93.0  Released   \n",
       "1  /w9Z7A0GHEhIp7etpj0vyKOeU1Wx.jpg   2004-08-06    113.0  Released   \n",
       "2  /lIv1QinFqz4dlp5U4lQ6HaiskOZ.jpg   2014-10-10    105.0  Released   \n",
       "3  /aTXRaPrWSinhcmCrcfJK17urp3F.jpg   2012-03-09    122.0  Released   \n",
       "4  /m22s7zvkVFDU9ir56PiiqIEWFdT.jpg   2009-02-05    118.0  Released   \n",
       "\n",
       "                                      title   revenue  release_day  \\\n",
       "0                    Hot Tub Time Machine 2  12314651           20   \n",
       "1  The Princess Diaries 2: Royal Engagement  95149435            6   \n",
       "2                                  Whiplash  13092000           10   \n",
       "3                                   Kahaani  16000000            9   \n",
       "4                                Marine Boy   3923970            5   \n",
       "\n",
       "   release_month  release_weekday  release_year  \n",
       "0              2                4          2015  \n",
       "1              8                4          2004  \n",
       "2             10                4          2014  \n",
       "3              3                4          2012  \n",
       "4              2                3          2009  "
      ]
     },
     "execution_count": 9,
     "metadata": {},
     "output_type": "execute_result"
    }
   ],
   "source": [
    "data[\"release_date\"] =  pd.to_datetime(data[\"release_date\"])\n",
    "data[\"release_day\"] = data[\"release_date\"].apply(lambda x:x.day)\n",
    "data[\"release_month\"] = data[\"release_date\"].apply(lambda x:x.month)\n",
    "data[\"release_weekday\"] = data[\"release_date\"].apply(lambda x:x.weekday())\n",
    "data[\"release_year\"] = data[\"release_date\"].apply(lambda x:x.year if x.year<2022 else x.year - 100)\n",
    "data.head()"
   ]
  },
  {
   "cell_type": "markdown",
   "id": "d51aa05a",
   "metadata": {},
   "source": [
    "# Max Revenue Movie"
   ]
  },
  {
   "cell_type": "code",
   "execution_count": 10,
   "id": "38c1710f",
   "metadata": {
    "scrolled": true
   },
   "outputs": [
    {
     "data": {
      "text/html": [
       "<div>\n",
       "<style scoped>\n",
       "    .dataframe tbody tr th:only-of-type {\n",
       "        vertical-align: middle;\n",
       "    }\n",
       "\n",
       "    .dataframe tbody tr th {\n",
       "        vertical-align: top;\n",
       "    }\n",
       "\n",
       "    .dataframe thead th {\n",
       "        text-align: right;\n",
       "    }\n",
       "</style>\n",
       "<table border=\"1\" class=\"dataframe\">\n",
       "  <thead>\n",
       "    <tr style=\"text-align: right;\">\n",
       "      <th></th>\n",
       "      <th>id</th>\n",
       "      <th>budget</th>\n",
       "      <th>imdb_id</th>\n",
       "      <th>original_language</th>\n",
       "      <th>original_title</th>\n",
       "      <th>popularity</th>\n",
       "      <th>poster_path</th>\n",
       "      <th>release_date</th>\n",
       "      <th>runtime</th>\n",
       "      <th>status</th>\n",
       "      <th>title</th>\n",
       "      <th>revenue</th>\n",
       "      <th>release_day</th>\n",
       "      <th>release_month</th>\n",
       "      <th>release_weekday</th>\n",
       "      <th>release_year</th>\n",
       "    </tr>\n",
       "  </thead>\n",
       "  <tbody>\n",
       "    <tr>\n",
       "      <th>1126</th>\n",
       "      <td>1127</td>\n",
       "      <td>220000000</td>\n",
       "      <td>tt0848228</td>\n",
       "      <td>en</td>\n",
       "      <td>The Avengers</td>\n",
       "      <td>89.887648</td>\n",
       "      <td>/cezWGskPY5x7GaglTTRN4Fugfb8.jpg</td>\n",
       "      <td>2012-04-25</td>\n",
       "      <td>143.0</td>\n",
       "      <td>Released</td>\n",
       "      <td>The Avengers</td>\n",
       "      <td>1519557910</td>\n",
       "      <td>25</td>\n",
       "      <td>4</td>\n",
       "      <td>2</td>\n",
       "      <td>2012</td>\n",
       "    </tr>\n",
       "  </tbody>\n",
       "</table>\n",
       "</div>"
      ],
      "text/plain": [
       "        id     budget    imdb_id original_language original_title  popularity  \\\n",
       "1126  1127  220000000  tt0848228                en   The Avengers   89.887648   \n",
       "\n",
       "                           poster_path release_date  runtime    status  \\\n",
       "1126  /cezWGskPY5x7GaglTTRN4Fugfb8.jpg   2012-04-25    143.0  Released   \n",
       "\n",
       "             title     revenue  release_day  release_month  release_weekday  \\\n",
       "1126  The Avengers  1519557910           25              4                2   \n",
       "\n",
       "      release_year  \n",
       "1126          2012  "
      ]
     },
     "execution_count": 10,
     "metadata": {},
     "output_type": "execute_result"
    }
   ],
   "source": [
    "data[data[\"revenue\"] == data[\"revenue\"].max()]"
   ]
  },
  {
   "cell_type": "markdown",
   "id": "1135fbc1",
   "metadata": {},
   "source": [
    "# Min Revenue Movie"
   ]
  },
  {
   "cell_type": "code",
   "execution_count": 11,
   "id": "83869362",
   "metadata": {
    "scrolled": true
   },
   "outputs": [
    {
     "data": {
      "text/html": [
       "<div>\n",
       "<style scoped>\n",
       "    .dataframe tbody tr th:only-of-type {\n",
       "        vertical-align: middle;\n",
       "    }\n",
       "\n",
       "    .dataframe tbody tr th {\n",
       "        vertical-align: top;\n",
       "    }\n",
       "\n",
       "    .dataframe thead th {\n",
       "        text-align: right;\n",
       "    }\n",
       "</style>\n",
       "<table border=\"1\" class=\"dataframe\">\n",
       "  <thead>\n",
       "    <tr style=\"text-align: right;\">\n",
       "      <th></th>\n",
       "      <th>id</th>\n",
       "      <th>original_title</th>\n",
       "      <th>revenue</th>\n",
       "    </tr>\n",
       "  </thead>\n",
       "  <tbody>\n",
       "    <tr>\n",
       "      <th>347</th>\n",
       "      <td>348</td>\n",
       "      <td>The Wind in the Willows</td>\n",
       "      <td>1</td>\n",
       "    </tr>\n",
       "    <tr>\n",
       "      <th>1754</th>\n",
       "      <td>1755</td>\n",
       "      <td>Mute Witness</td>\n",
       "      <td>1</td>\n",
       "    </tr>\n",
       "    <tr>\n",
       "      <th>1874</th>\n",
       "      <td>1875</td>\n",
       "      <td>Vermist</td>\n",
       "      <td>1</td>\n",
       "    </tr>\n",
       "    <tr>\n",
       "      <th>1917</th>\n",
       "      <td>1918</td>\n",
       "      <td>The Merry Widow</td>\n",
       "      <td>1</td>\n",
       "    </tr>\n",
       "  </tbody>\n",
       "</table>\n",
       "</div>"
      ],
      "text/plain": [
       "        id           original_title  revenue\n",
       "347    348  The Wind in the Willows        1\n",
       "1754  1755             Mute Witness        1\n",
       "1874  1875                  Vermist        1\n",
       "1917  1918          The Merry Widow        1"
      ]
     },
     "execution_count": 11,
     "metadata": {},
     "output_type": "execute_result"
    }
   ],
   "source": [
    "data[data[\"revenue\"] == data[\"revenue\"].min()][[\"id\",\"original_title\",\"revenue\"]]"
   ]
  },
  {
   "cell_type": "markdown",
   "id": "5a0c8b05",
   "metadata": {},
   "source": [
    "# Top Revenue Gradiant"
   ]
  },
  {
   "cell_type": "code",
   "execution_count": 12,
   "id": "61382ddc",
   "metadata": {
    "scrolled": true
   },
   "outputs": [
    {
     "data": {
      "text/html": [
       "<style type=\"text/css\">\n",
       "#T_1ca4b_row0_col3 {\n",
       "  background-color: #00441b;\n",
       "  color: #f1f1f1;\n",
       "}\n",
       "#T_1ca4b_row1_col3 {\n",
       "  background-color: #004c1e;\n",
       "  color: #f1f1f1;\n",
       "}\n",
       "#T_1ca4b_row2_col3 {\n",
       "  background-color: #1d8640;\n",
       "  color: #f1f1f1;\n",
       "}\n",
       "#T_1ca4b_row3_col3 {\n",
       "  background-color: #6dc5a9;\n",
       "  color: #000000;\n",
       "}\n",
       "#T_1ca4b_row4_col3 {\n",
       "  background-color: #d6f0ee;\n",
       "  color: #000000;\n",
       "}\n",
       "#T_1ca4b_row5_col3 {\n",
       "  background-color: #e5f5f9;\n",
       "  color: #000000;\n",
       "}\n",
       "#T_1ca4b_row6_col3 {\n",
       "  background-color: #f1fafc;\n",
       "  color: #000000;\n",
       "}\n",
       "#T_1ca4b_row7_col3 {\n",
       "  background-color: #f6fcfd;\n",
       "  color: #000000;\n",
       "}\n",
       "#T_1ca4b_row8_col3, #T_1ca4b_row9_col3 {\n",
       "  background-color: #f7fcfd;\n",
       "  color: #000000;\n",
       "}\n",
       "</style>\n",
       "<table id=\"T_1ca4b_\">\n",
       "  <thead>\n",
       "    <tr>\n",
       "      <th class=\"blank level0\" >&nbsp;</th>\n",
       "      <th class=\"col_heading level0 col0\" >id</th>\n",
       "      <th class=\"col_heading level0 col1\" >title</th>\n",
       "      <th class=\"col_heading level0 col2\" >budget</th>\n",
       "      <th class=\"col_heading level0 col3\" >revenue</th>\n",
       "    </tr>\n",
       "  </thead>\n",
       "  <tbody>\n",
       "    <tr>\n",
       "      <th id=\"T_1ca4b_level0_row0\" class=\"row_heading level0 row0\" >1126</th>\n",
       "      <td id=\"T_1ca4b_row0_col0\" class=\"data row0 col0\" >1127</td>\n",
       "      <td id=\"T_1ca4b_row0_col1\" class=\"data row0 col1\" >The Avengers</td>\n",
       "      <td id=\"T_1ca4b_row0_col2\" class=\"data row0 col2\" >220000000</td>\n",
       "      <td id=\"T_1ca4b_row0_col3\" class=\"data row0 col3\" >1519557910</td>\n",
       "    </tr>\n",
       "    <tr>\n",
       "      <th id=\"T_1ca4b_level0_row1\" class=\"row_heading level0 row1\" >1761</th>\n",
       "      <td id=\"T_1ca4b_row1_col0\" class=\"data row1 col0\" >1762</td>\n",
       "      <td id=\"T_1ca4b_row1_col1\" class=\"data row1 col1\" >Furious 7</td>\n",
       "      <td id=\"T_1ca4b_row1_col2\" class=\"data row1 col2\" >190000000</td>\n",
       "      <td id=\"T_1ca4b_row1_col3\" class=\"data row1 col3\" >1506249360</td>\n",
       "    </tr>\n",
       "    <tr>\n",
       "      <th id=\"T_1ca4b_level0_row2\" class=\"row_heading level0 row2\" >2770</th>\n",
       "      <td id=\"T_1ca4b_row2_col0\" class=\"data row2 col0\" >2771</td>\n",
       "      <td id=\"T_1ca4b_row2_col1\" class=\"data row2 col1\" >Avengers: Age of Ultron</td>\n",
       "      <td id=\"T_1ca4b_row2_col2\" class=\"data row2 col2\" >280000000</td>\n",
       "      <td id=\"T_1ca4b_row2_col3\" class=\"data row2 col3\" >1405403694</td>\n",
       "    </tr>\n",
       "    <tr>\n",
       "      <th id=\"T_1ca4b_level0_row3\" class=\"row_heading level0 row3\" >684</th>\n",
       "      <td id=\"T_1ca4b_row3_col0\" class=\"data row3 col0\" >685</td>\n",
       "      <td id=\"T_1ca4b_row3_col1\" class=\"data row3 col1\" >Beauty and the Beast</td>\n",
       "      <td id=\"T_1ca4b_row3_col2\" class=\"data row3 col2\" >160000000</td>\n",
       "      <td id=\"T_1ca4b_row3_col3\" class=\"data row3 col3\" >1262886337</td>\n",
       "    </tr>\n",
       "    <tr>\n",
       "      <th id=\"T_1ca4b_level0_row4\" class=\"row_heading level0 row4\" >2322</th>\n",
       "      <td id=\"T_1ca4b_row4_col0\" class=\"data row4 col0\" >2323</td>\n",
       "      <td id=\"T_1ca4b_row4_col1\" class=\"data row4 col1\" >Transformers: Dark of the Moon</td>\n",
       "      <td id=\"T_1ca4b_row4_col2\" class=\"data row4 col2\" >195000000</td>\n",
       "      <td id=\"T_1ca4b_row4_col3\" class=\"data row4 col3\" >1123746996</td>\n",
       "    </tr>\n",
       "    <tr>\n",
       "      <th id=\"T_1ca4b_level0_row5\" class=\"row_heading level0 row5\" >906</th>\n",
       "      <td id=\"T_1ca4b_row5_col0\" class=\"data row5 col0\" >907</td>\n",
       "      <td id=\"T_1ca4b_row5_col1\" class=\"data row5 col1\" >The Dark Knight Rises</td>\n",
       "      <td id=\"T_1ca4b_row5_col2\" class=\"data row5 col2\" >250000000</td>\n",
       "      <td id=\"T_1ca4b_row5_col3\" class=\"data row5 col3\" >1084939099</td>\n",
       "    </tr>\n",
       "    <tr>\n",
       "      <th id=\"T_1ca4b_level0_row6\" class=\"row_heading level0 row6\" >2135</th>\n",
       "      <td id=\"T_1ca4b_row6_col0\" class=\"data row6 col0\" >2136</td>\n",
       "      <td id=\"T_1ca4b_row6_col1\" class=\"data row6 col1\" >Pirates of the Caribbean: On Stranger Tides</td>\n",
       "      <td id=\"T_1ca4b_row6_col2\" class=\"data row6 col2\" >380000000</td>\n",
       "      <td id=\"T_1ca4b_row6_col3\" class=\"data row6 col3\" >1045713802</td>\n",
       "    </tr>\n",
       "    <tr>\n",
       "      <th id=\"T_1ca4b_level0_row7\" class=\"row_heading level0 row7\" >2562</th>\n",
       "      <td id=\"T_1ca4b_row7_col0\" class=\"data row7 col0\" >2563</td>\n",
       "      <td id=\"T_1ca4b_row7_col1\" class=\"data row7 col1\" >Finding Dory</td>\n",
       "      <td id=\"T_1ca4b_row7_col2\" class=\"data row7 col2\" >200000000</td>\n",
       "      <td id=\"T_1ca4b_row7_col3\" class=\"data row7 col3\" >1028570889</td>\n",
       "    </tr>\n",
       "    <tr>\n",
       "      <th id=\"T_1ca4b_level0_row8\" class=\"row_heading level0 row8\" >881</th>\n",
       "      <td id=\"T_1ca4b_row8_col0\" class=\"data row8 col0\" >882</td>\n",
       "      <td id=\"T_1ca4b_row8_col1\" class=\"data row8 col1\" >Alice in Wonderland</td>\n",
       "      <td id=\"T_1ca4b_row8_col2\" class=\"data row8 col2\" >200000000</td>\n",
       "      <td id=\"T_1ca4b_row8_col3\" class=\"data row8 col3\" >1025491110</td>\n",
       "    </tr>\n",
       "    <tr>\n",
       "      <th id=\"T_1ca4b_level0_row9\" class=\"row_heading level0 row9\" >734</th>\n",
       "      <td id=\"T_1ca4b_row9_col0\" class=\"data row9 col0\" >735</td>\n",
       "      <td id=\"T_1ca4b_row9_col1\" class=\"data row9 col1\" >Zootopia</td>\n",
       "      <td id=\"T_1ca4b_row9_col2\" class=\"data row9 col2\" >150000000</td>\n",
       "      <td id=\"T_1ca4b_row9_col3\" class=\"data row9 col3\" >1023784195</td>\n",
       "    </tr>\n",
       "  </tbody>\n",
       "</table>\n"
      ],
      "text/plain": [
       "<pandas.io.formats.style.Styler at 0x266f11880a0>"
      ]
     },
     "execution_count": 12,
     "metadata": {},
     "output_type": "execute_result"
    }
   ],
   "source": [
    "data[[\"id\",\"title\",\"budget\",\"revenue\"]].sort_values(by=\"revenue\" , ascending=False).head(10).style.background_gradient(subset=\"revenue\",cmap=\"BuGn\")"
   ]
  },
  {
   "cell_type": "markdown",
   "id": "9b8d3e8d",
   "metadata": {},
   "source": [
    "# Max Budget Movie"
   ]
  },
  {
   "cell_type": "code",
   "execution_count": 13,
   "id": "d092693d",
   "metadata": {},
   "outputs": [
    {
     "data": {
      "text/html": [
       "<div>\n",
       "<style scoped>\n",
       "    .dataframe tbody tr th:only-of-type {\n",
       "        vertical-align: middle;\n",
       "    }\n",
       "\n",
       "    .dataframe tbody tr th {\n",
       "        vertical-align: top;\n",
       "    }\n",
       "\n",
       "    .dataframe thead th {\n",
       "        text-align: right;\n",
       "    }\n",
       "</style>\n",
       "<table border=\"1\" class=\"dataframe\">\n",
       "  <thead>\n",
       "    <tr style=\"text-align: right;\">\n",
       "      <th></th>\n",
       "      <th>id</th>\n",
       "      <th>budget</th>\n",
       "      <th>imdb_id</th>\n",
       "      <th>original_language</th>\n",
       "      <th>original_title</th>\n",
       "      <th>popularity</th>\n",
       "      <th>poster_path</th>\n",
       "      <th>release_date</th>\n",
       "      <th>runtime</th>\n",
       "      <th>status</th>\n",
       "      <th>title</th>\n",
       "      <th>revenue</th>\n",
       "      <th>release_day</th>\n",
       "      <th>release_month</th>\n",
       "      <th>release_weekday</th>\n",
       "      <th>release_year</th>\n",
       "    </tr>\n",
       "  </thead>\n",
       "  <tbody>\n",
       "    <tr>\n",
       "      <th>2135</th>\n",
       "      <td>2136</td>\n",
       "      <td>380000000</td>\n",
       "      <td>tt1298650</td>\n",
       "      <td>en</td>\n",
       "      <td>Pirates of the Caribbean: On Stranger Tides</td>\n",
       "      <td>27.88772</td>\n",
       "      <td>/wNUDAq5OUMOtxMlz64YaCp7gZma.jpg</td>\n",
       "      <td>2011-05-14</td>\n",
       "      <td>136.0</td>\n",
       "      <td>Released</td>\n",
       "      <td>Pirates of the Caribbean: On Stranger Tides</td>\n",
       "      <td>1045713802</td>\n",
       "      <td>14</td>\n",
       "      <td>5</td>\n",
       "      <td>5</td>\n",
       "      <td>2011</td>\n",
       "    </tr>\n",
       "  </tbody>\n",
       "</table>\n",
       "</div>"
      ],
      "text/plain": [
       "        id     budget    imdb_id original_language  \\\n",
       "2135  2136  380000000  tt1298650                en   \n",
       "\n",
       "                                   original_title  popularity  \\\n",
       "2135  Pirates of the Caribbean: On Stranger Tides    27.88772   \n",
       "\n",
       "                           poster_path release_date  runtime    status  \\\n",
       "2135  /wNUDAq5OUMOtxMlz64YaCp7gZma.jpg   2011-05-14    136.0  Released   \n",
       "\n",
       "                                            title     revenue  release_day  \\\n",
       "2135  Pirates of the Caribbean: On Stranger Tides  1045713802           14   \n",
       "\n",
       "      release_month  release_weekday  release_year  \n",
       "2135              5                5          2011  "
      ]
     },
     "execution_count": 13,
     "metadata": {},
     "output_type": "execute_result"
    }
   ],
   "source": [
    "data[data[\"budget\"] == data[\"budget\"].max()]"
   ]
  },
  {
   "cell_type": "markdown",
   "id": "404aec87",
   "metadata": {},
   "source": [
    "# Budget and Revenue Gradient"
   ]
  },
  {
   "cell_type": "code",
   "execution_count": 14,
   "id": "8c258d8d",
   "metadata": {},
   "outputs": [
    {
     "data": {
      "text/html": [
       "<style type=\"text/css\">\n",
       "#T_ee764_row0_col2, #T_ee764_row2_col3 {\n",
       "  background-color: #023858;\n",
       "  color: #f1f1f1;\n",
       "}\n",
       "#T_ee764_row0_col3 {\n",
       "  background-color: #2182b9;\n",
       "  color: #f1f1f1;\n",
       "}\n",
       "#T_ee764_row1_col2 {\n",
       "  background-color: #a2bcda;\n",
       "  color: #000000;\n",
       "}\n",
       "#T_ee764_row1_col3 {\n",
       "  background-color: #4094c3;\n",
       "  color: #f1f1f1;\n",
       "}\n",
       "#T_ee764_row2_col2 {\n",
       "  background-color: #d4d4e8;\n",
       "  color: #000000;\n",
       "}\n",
       "#T_ee764_row3_col2 {\n",
       "  background-color: #e6e2ef;\n",
       "  color: #000000;\n",
       "}\n",
       "#T_ee764_row3_col3 {\n",
       "  background-color: #f1ebf4;\n",
       "  color: #000000;\n",
       "}\n",
       "#T_ee764_row4_col2, #T_ee764_row5_col2 {\n",
       "  background-color: #f4edf6;\n",
       "  color: #000000;\n",
       "}\n",
       "#T_ee764_row4_col3, #T_ee764_row6_col2, #T_ee764_row7_col2, #T_ee764_row8_col2, #T_ee764_row9_col2 {\n",
       "  background-color: #fff7fb;\n",
       "  color: #000000;\n",
       "}\n",
       "#T_ee764_row5_col3 {\n",
       "  background-color: #c4cbe3;\n",
       "  color: #000000;\n",
       "}\n",
       "#T_ee764_row6_col3 {\n",
       "  background-color: #2987bc;\n",
       "  color: #f1f1f1;\n",
       "}\n",
       "#T_ee764_row7_col3 {\n",
       "  background-color: #4c99c5;\n",
       "  color: #f1f1f1;\n",
       "}\n",
       "#T_ee764_row8_col3 {\n",
       "  background-color: #1379b5;\n",
       "  color: #f1f1f1;\n",
       "}\n",
       "#T_ee764_row9_col3 {\n",
       "  background-color: #4295c3;\n",
       "  color: #f1f1f1;\n",
       "}\n",
       "</style>\n",
       "<table id=\"T_ee764_\">\n",
       "  <thead>\n",
       "    <tr>\n",
       "      <th class=\"blank level0\" >&nbsp;</th>\n",
       "      <th class=\"col_heading level0 col0\" >id</th>\n",
       "      <th class=\"col_heading level0 col1\" >title</th>\n",
       "      <th class=\"col_heading level0 col2\" >budget</th>\n",
       "      <th class=\"col_heading level0 col3\" >revenue</th>\n",
       "    </tr>\n",
       "  </thead>\n",
       "  <tbody>\n",
       "    <tr>\n",
       "      <th id=\"T_ee764_level0_row0\" class=\"row_heading level0 row0\" >2135</th>\n",
       "      <td id=\"T_ee764_row0_col0\" class=\"data row0 col0\" >2136</td>\n",
       "      <td id=\"T_ee764_row0_col1\" class=\"data row0 col1\" >Pirates of the Caribbean: On Stranger Tides</td>\n",
       "      <td id=\"T_ee764_row0_col2\" class=\"data row0 col2\" >380000000</td>\n",
       "      <td id=\"T_ee764_row0_col3\" class=\"data row0 col3\" >1045713802</td>\n",
       "    </tr>\n",
       "    <tr>\n",
       "      <th id=\"T_ee764_level0_row1\" class=\"row_heading level0 row1\" >2209</th>\n",
       "      <td id=\"T_ee764_row1_col0\" class=\"data row1 col0\" >2210</td>\n",
       "      <td id=\"T_ee764_row1_col1\" class=\"data row1 col1\" >Pirates of the Caribbean: At World's End</td>\n",
       "      <td id=\"T_ee764_row1_col2\" class=\"data row1 col2\" >300000000</td>\n",
       "      <td id=\"T_ee764_row1_col3\" class=\"data row1 col3\" >961000000</td>\n",
       "    </tr>\n",
       "    <tr>\n",
       "      <th id=\"T_ee764_level0_row2\" class=\"row_heading level0 row2\" >2770</th>\n",
       "      <td id=\"T_ee764_row2_col0\" class=\"data row2 col0\" >2771</td>\n",
       "      <td id=\"T_ee764_row2_col1\" class=\"data row2 col1\" >Avengers: Age of Ultron</td>\n",
       "      <td id=\"T_ee764_row2_col2\" class=\"data row2 col2\" >280000000</td>\n",
       "      <td id=\"T_ee764_row2_col3\" class=\"data row2 col3\" >1405403694</td>\n",
       "    </tr>\n",
       "    <tr>\n",
       "      <th id=\"T_ee764_level0_row3\" class=\"row_heading level0 row3\" >1425</th>\n",
       "      <td id=\"T_ee764_row3_col0\" class=\"data row3 col0\" >1426</td>\n",
       "      <td id=\"T_ee764_row3_col1\" class=\"data row3 col1\" >Superman Returns</td>\n",
       "      <td id=\"T_ee764_row3_col2\" class=\"data row3 col2\" >270000000</td>\n",
       "      <td id=\"T_ee764_row3_col3\" class=\"data row3 col3\" >391081192</td>\n",
       "    </tr>\n",
       "    <tr>\n",
       "      <th id=\"T_ee764_level0_row4\" class=\"row_heading level0 row4\" >1270</th>\n",
       "      <td id=\"T_ee764_row4_col0\" class=\"data row4 col0\" >1271</td>\n",
       "      <td id=\"T_ee764_row4_col1\" class=\"data row4 col1\" >John Carter</td>\n",
       "      <td id=\"T_ee764_row4_col2\" class=\"data row4 col2\" >260000000</td>\n",
       "      <td id=\"T_ee764_row4_col3\" class=\"data row4 col3\" >284139100</td>\n",
       "    </tr>\n",
       "    <tr>\n",
       "      <th id=\"T_ee764_level0_row5\" class=\"row_heading level0 row5\" >1630</th>\n",
       "      <td id=\"T_ee764_row5_col0\" class=\"data row5 col0\" >1631</td>\n",
       "      <td id=\"T_ee764_row5_col1\" class=\"data row5 col1\" >Transformers: The Last Knight</td>\n",
       "      <td id=\"T_ee764_row5_col2\" class=\"data row5 col2\" >260000000</td>\n",
       "      <td id=\"T_ee764_row5_col3\" class=\"data row5 col3\" >604942143</td>\n",
       "    </tr>\n",
       "    <tr>\n",
       "      <th id=\"T_ee764_level0_row6\" class=\"row_heading level0 row6\" >2532</th>\n",
       "      <td id=\"T_ee764_row6_col0\" class=\"data row6 col0\" >2533</td>\n",
       "      <td id=\"T_ee764_row6_col1\" class=\"data row6 col1\" >The Hobbit: An Unexpected Journey</td>\n",
       "      <td id=\"T_ee764_row6_col2\" class=\"data row6 col2\" >250000000</td>\n",
       "      <td id=\"T_ee764_row6_col3\" class=\"data row6 col3\" >1021103568</td>\n",
       "    </tr>\n",
       "    <tr>\n",
       "      <th id=\"T_ee764_level0_row7\" class=\"row_heading level0 row7\" >961</th>\n",
       "      <td id=\"T_ee764_row7_col0\" class=\"data row7 col0\" >962</td>\n",
       "      <td id=\"T_ee764_row7_col1\" class=\"data row7 col1\" >Harry Potter and the Half-Blood Prince</td>\n",
       "      <td id=\"T_ee764_row7_col2\" class=\"data row7 col2\" >250000000</td>\n",
       "      <td id=\"T_ee764_row7_col3\" class=\"data row7 col3\" >933959197</td>\n",
       "    </tr>\n",
       "    <tr>\n",
       "      <th id=\"T_ee764_level0_row8\" class=\"row_heading level0 row8\" >906</th>\n",
       "      <td id=\"T_ee764_row8_col0\" class=\"data row8 col0\" >907</td>\n",
       "      <td id=\"T_ee764_row8_col1\" class=\"data row8 col1\" >The Dark Knight Rises</td>\n",
       "      <td id=\"T_ee764_row8_col2\" class=\"data row8 col2\" >250000000</td>\n",
       "      <td id=\"T_ee764_row8_col3\" class=\"data row8 col3\" >1084939099</td>\n",
       "    </tr>\n",
       "    <tr>\n",
       "      <th id=\"T_ee764_level0_row9\" class=\"row_heading level0 row9\" >666</th>\n",
       "      <td id=\"T_ee764_row9_col0\" class=\"data row9 col0\" >667</td>\n",
       "      <td id=\"T_ee764_row9_col1\" class=\"data row9 col1\" >The Hobbit: The Desolation of Smaug</td>\n",
       "      <td id=\"T_ee764_row9_col2\" class=\"data row9 col2\" >250000000</td>\n",
       "      <td id=\"T_ee764_row9_col3\" class=\"data row9 col3\" >958400000</td>\n",
       "    </tr>\n",
       "  </tbody>\n",
       "</table>\n"
      ],
      "text/plain": [
       "<pandas.io.formats.style.Styler at 0x266f117a370>"
      ]
     },
     "execution_count": 14,
     "metadata": {},
     "output_type": "execute_result"
    }
   ],
   "source": [
    "data[[\"id\",\"title\",\"budget\",\"revenue\"]].sort_values(by=\"budget\" , ascending=False).head(10).style.background_gradient(subset=[\"revenue\" , \"budget\"],cmap=\"PuBu\")"
   ]
  },
  {
   "cell_type": "markdown",
   "id": "c8c0ad99",
   "metadata": {},
   "source": [
    "# Max RunTime Movie"
   ]
  },
  {
   "cell_type": "code",
   "execution_count": 15,
   "id": "5c54a9d0",
   "metadata": {},
   "outputs": [
    {
     "data": {
      "text/html": [
       "<div>\n",
       "<style scoped>\n",
       "    .dataframe tbody tr th:only-of-type {\n",
       "        vertical-align: middle;\n",
       "    }\n",
       "\n",
       "    .dataframe tbody tr th {\n",
       "        vertical-align: top;\n",
       "    }\n",
       "\n",
       "    .dataframe thead th {\n",
       "        text-align: right;\n",
       "    }\n",
       "</style>\n",
       "<table border=\"1\" class=\"dataframe\">\n",
       "  <thead>\n",
       "    <tr style=\"text-align: right;\">\n",
       "      <th></th>\n",
       "      <th>original_title</th>\n",
       "    </tr>\n",
       "  </thead>\n",
       "  <tbody>\n",
       "    <tr>\n",
       "      <th>1211</th>\n",
       "      <td>Carlos</td>\n",
       "    </tr>\n",
       "  </tbody>\n",
       "</table>\n",
       "</div>"
      ],
      "text/plain": [
       "     original_title\n",
       "1211         Carlos"
      ]
     },
     "execution_count": 15,
     "metadata": {},
     "output_type": "execute_result"
    }
   ],
   "source": [
    "data[data[\"runtime\"] == data[\"runtime\"].max()][[\"original_title\"]]"
   ]
  },
  {
   "cell_type": "code",
   "execution_count": 16,
   "id": "3610f42c",
   "metadata": {},
   "outputs": [
    {
     "data": {
      "image/png": "[encoded data removed]",
      "text/plain": [
       "<Figure size 432x288 with 1 Axes>"
      ]
     },
     "metadata": {},
     "output_type": "display_data"
    }
   ],
   "source": [
    "plt.hist(data[\"runtime\"].fillna(0)/60 , bins=40)\n",
    "plt.title(\"Number of Movies vs Duration\")\n",
    "plt.xlabel(\"Duration\")\n",
    "plt.ylabel(\"Total Movies\")\n",
    "plt.show()"
   ]
  },
  {
   "cell_type": "markdown",
   "id": "d7f10d2d",
   "metadata": {},
   "source": [
    "# Budget , Revenue , Runtime Gradient"
   ]
  },
  {
   "cell_type": "code",
   "execution_count": 17,
   "id": "ba4c68a9",
   "metadata": {
    "scrolled": true
   },
   "outputs": [
    {
     "data": {
      "text/html": [
       "<style type=\"text/css\">\n",
       "#T_bb51c_row0_col2, #T_bb51c_row4_col3, #T_bb51c_row6_col4 {\n",
       "  background-color: #023858;\n",
       "  color: #f1f1f1;\n",
       "}\n",
       "#T_bb51c_row0_col3 {\n",
       "  background-color: #c1cae2;\n",
       "  color: #000000;\n",
       "}\n",
       "#T_bb51c_row0_col4, #T_bb51c_row7_col3, #T_bb51c_row7_col4, #T_bb51c_row9_col2 {\n",
       "  background-color: #fff7fb;\n",
       "  color: #000000;\n",
       "}\n",
       "#T_bb51c_row1_col2 {\n",
       "  background-color: #abbfdc;\n",
       "  color: #000000;\n",
       "}\n",
       "#T_bb51c_row1_col3 {\n",
       "  background-color: #60a1ca;\n",
       "  color: #f1f1f1;\n",
       "}\n",
       "#T_bb51c_row1_col4 {\n",
       "  background-color: #7bacd1;\n",
       "  color: #f1f1f1;\n",
       "}\n",
       "#T_bb51c_row2_col2 {\n",
       "  background-color: #e4e1ef;\n",
       "  color: #000000;\n",
       "}\n",
       "#T_bb51c_row2_col3 {\n",
       "  background-color: #dad9ea;\n",
       "  color: #000000;\n",
       "}\n",
       "#T_bb51c_row2_col4 {\n",
       "  background-color: #046198;\n",
       "  color: #f1f1f1;\n",
       "}\n",
       "#T_bb51c_row3_col2 {\n",
       "  background-color: #e6e2ef;\n",
       "  color: #000000;\n",
       "}\n",
       "#T_bb51c_row3_col3 {\n",
       "  background-color: #056ba7;\n",
       "  color: #f1f1f1;\n",
       "}\n",
       "#T_bb51c_row3_col4 {\n",
       "  background-color: #fcf4fa;\n",
       "  color: #000000;\n",
       "}\n",
       "#T_bb51c_row4_col2, #T_bb51c_row5_col3 {\n",
       "  background-color: #ede8f3;\n",
       "  color: #000000;\n",
       "}\n",
       "#T_bb51c_row4_col4, #T_bb51c_row5_col4 {\n",
       "  background-color: #f2ecf5;\n",
       "  color: #000000;\n",
       "}\n",
       "#T_bb51c_row5_col2 {\n",
       "  background-color: #eee8f3;\n",
       "  color: #000000;\n",
       "}\n",
       "#T_bb51c_row6_col2 {\n",
       "  background-color: #efe9f3;\n",
       "  color: #000000;\n",
       "}\n",
       "#T_bb51c_row6_col3 {\n",
       "  background-color: #d2d3e7;\n",
       "  color: #000000;\n",
       "}\n",
       "#T_bb51c_row7_col2 {\n",
       "  background-color: #f4eef6;\n",
       "  color: #000000;\n",
       "}\n",
       "#T_bb51c_row8_col2 {\n",
       "  background-color: #fdf5fa;\n",
       "  color: #000000;\n",
       "}\n",
       "#T_bb51c_row8_col3 {\n",
       "  background-color: #faf2f8;\n",
       "  color: #000000;\n",
       "}\n",
       "#T_bb51c_row8_col4 {\n",
       "  background-color: #fbf3f9;\n",
       "  color: #000000;\n",
       "}\n",
       "#T_bb51c_row9_col3 {\n",
       "  background-color: #dfddec;\n",
       "  color: #000000;\n",
       "}\n",
       "#T_bb51c_row9_col4 {\n",
       "  background-color: #99b8d8;\n",
       "  color: #000000;\n",
       "}\n",
       "</style>\n",
       "<table id=\"T_bb51c_\">\n",
       "  <thead>\n",
       "    <tr>\n",
       "      <th class=\"blank level0\" >&nbsp;</th>\n",
       "      <th class=\"col_heading level0 col0\" >id</th>\n",
       "      <th class=\"col_heading level0 col1\" >title</th>\n",
       "      <th class=\"col_heading level0 col2\" >runtime</th>\n",
       "      <th class=\"col_heading level0 col3\" >budget</th>\n",
       "      <th class=\"col_heading level0 col4\" >revenue</th>\n",
       "    </tr>\n",
       "  </thead>\n",
       "  <tbody>\n",
       "    <tr>\n",
       "      <th id=\"T_bb51c_level0_row0\" class=\"row_heading level0 row0\" >1211</th>\n",
       "      <td id=\"T_bb51c_row0_col0\" class=\"data row0 col0\" >1212</td>\n",
       "      <td id=\"T_bb51c_row0_col1\" class=\"data row0 col1\" >Carlos</td>\n",
       "      <td id=\"T_bb51c_row0_col2\" class=\"data row0 col2\" >338.000000</td>\n",
       "      <td id=\"T_bb51c_row0_col3\" class=\"data row0 col3\" >18000000</td>\n",
       "      <td id=\"T_bb51c_row0_col4\" class=\"data row0 col4\" >871279</td>\n",
       "    </tr>\n",
       "    <tr>\n",
       "      <th id=\"T_bb51c_level0_row1\" class=\"row_heading level0 row1\" >1922</th>\n",
       "      <td id=\"T_bb51c_row1_col0\" class=\"data row1 col0\" >1923</td>\n",
       "      <td id=\"T_bb51c_row1_col1\" class=\"data row1 col1\" >Cleopatra</td>\n",
       "      <td id=\"T_bb51c_row1_col2\" class=\"data row1 col2\" >248.000000</td>\n",
       "      <td id=\"T_bb51c_row1_col3\" class=\"data row1 col3\" >31115000</td>\n",
       "      <td id=\"T_bb51c_row1_col4\" class=\"data row1 col4\" >71000000</td>\n",
       "    </tr>\n",
       "    <tr>\n",
       "      <th id=\"T_bb51c_level0_row2\" class=\"row_heading level0 row2\" >523</th>\n",
       "      <td id=\"T_bb51c_row2_col0\" class=\"data row2 col0\" >524</td>\n",
       "      <td id=\"T_bb51c_row2_col1\" class=\"data row2 col1\" >The Ten Commandments</td>\n",
       "      <td id=\"T_bb51c_row2_col2\" class=\"data row2 col2\" >220.000000</td>\n",
       "      <td id=\"T_bb51c_row2_col3\" class=\"data row2 col3\" >13000000</td>\n",
       "      <td id=\"T_bb51c_row2_col4\" class=\"data row2 col4\" >122700000</td>\n",
       "    </tr>\n",
       "    <tr>\n",
       "      <th id=\"T_bb51c_level0_row3\" class=\"row_heading level0 row3\" >1302</th>\n",
       "      <td id=\"T_bb51c_row3_col0\" class=\"data row3 col0\" >1303</td>\n",
       "      <td id=\"T_bb51c_row3_col1\" class=\"data row3 col1\" >Heaven's Gate</td>\n",
       "      <td id=\"T_bb51c_row3_col2\" class=\"data row3 col2\" >219.000000</td>\n",
       "      <td id=\"T_bb51c_row3_col3\" class=\"data row3 col3\" >44000000</td>\n",
       "      <td id=\"T_bb51c_row3_col4\" class=\"data row3 col4\" >3484331</td>\n",
       "    </tr>\n",
       "    <tr>\n",
       "      <th id=\"T_bb51c_level0_row4\" class=\"row_heading level0 row4\" >1914</th>\n",
       "      <td id=\"T_bb51c_row4_col0\" class=\"data row4 col0\" >1915</td>\n",
       "      <td id=\"T_bb51c_row4_col1\" class=\"data row4 col1\" >Gods and Generals</td>\n",
       "      <td id=\"T_bb51c_row4_col2\" class=\"data row4 col2\" >214.000000</td>\n",
       "      <td id=\"T_bb51c_row4_col3\" class=\"data row4 col3\" >56000000</td>\n",
       "      <td id=\"T_bb51c_row4_col4\" class=\"data row4 col4\" >12923936</td>\n",
       "    </tr>\n",
       "    <tr>\n",
       "      <th id=\"T_bb51c_level0_row5\" class=\"row_heading level0 row5\" >2353</th>\n",
       "      <td id=\"T_bb51c_row5_col0\" class=\"data row5 col0\" >2354</td>\n",
       "      <td id=\"T_bb51c_row5_col1\" class=\"data row5 col1\" >Jodhaa Akbar</td>\n",
       "      <td id=\"T_bb51c_row5_col2\" class=\"data row5 col2\" >213.000000</td>\n",
       "      <td id=\"T_bb51c_row5_col3\" class=\"data row5 col3\" >8376800</td>\n",
       "      <td id=\"T_bb51c_row5_col4\" class=\"data row5 col4\" >13000000</td>\n",
       "    </tr>\n",
       "    <tr>\n",
       "      <th id=\"T_bb51c_level0_row6\" class=\"row_heading level0 row6\" >625</th>\n",
       "      <td id=\"T_bb51c_row6_col0\" class=\"data row6 col0\" >626</td>\n",
       "      <td id=\"T_bb51c_row6_col1\" class=\"data row6 col1\" >Ben-Hur</td>\n",
       "      <td id=\"T_bb51c_row6_col2\" class=\"data row6 col2\" >212.000000</td>\n",
       "      <td id=\"T_bb51c_row6_col3\" class=\"data row6 col3\" >15000000</td>\n",
       "      <td id=\"T_bb51c_row6_col4\" class=\"data row6 col4\" >146900000</td>\n",
       "    </tr>\n",
       "    <tr>\n",
       "      <th id=\"T_bb51c_level0_row7\" class=\"row_heading level0 row7\" >1975</th>\n",
       "      <td id=\"T_bb51c_row7_col0\" class=\"data row7 col0\" >1976</td>\n",
       "      <td id=\"T_bb51c_row7_col1\" class=\"data row7 col1\" >Chapiteau-Show</td>\n",
       "      <td id=\"T_bb51c_row7_col2\" class=\"data row7 col2\" >207.000000</td>\n",
       "      <td id=\"T_bb51c_row7_col3\" class=\"data row7 col3\" >2000000</td>\n",
       "      <td id=\"T_bb51c_row7_col4\" class=\"data row7 col4\" >393816</td>\n",
       "    </tr>\n",
       "    <tr>\n",
       "      <th id=\"T_bb51c_level0_row8\" class=\"row_heading level0 row8\" >1731</th>\n",
       "      <td id=\"T_bb51c_row8_col0\" class=\"data row8 col0\" >1732</td>\n",
       "      <td id=\"T_bb51c_row8_col1\" class=\"data row8 col1\" >Hey Ram</td>\n",
       "      <td id=\"T_bb51c_row8_col2\" class=\"data row8 col2\" >199.000000</td>\n",
       "      <td id=\"T_bb51c_row8_col3\" class=\"data row8 col3\" >3900000</td>\n",
       "      <td id=\"T_bb51c_row8_col4\" class=\"data row8 col4\" >4900000</td>\n",
       "    </tr>\n",
       "    <tr>\n",
       "      <th id=\"T_bb51c_level0_row9\" class=\"row_heading level0 row9\" >2120</th>\n",
       "      <td id=\"T_bb51c_row9_col0\" class=\"data row9 col0\" >2121</td>\n",
       "      <td id=\"T_bb51c_row9_col1\" class=\"data row9 col1\" >Spartacus</td>\n",
       "      <td id=\"T_bb51c_row9_col2\" class=\"data row9 col2\" >197.000000</td>\n",
       "      <td id=\"T_bb51c_row9_col3\" class=\"data row9 col3\" >12000000</td>\n",
       "      <td id=\"T_bb51c_row9_col4\" class=\"data row9 col4\" >60000000</td>\n",
       "    </tr>\n",
       "  </tbody>\n",
       "</table>\n"
      ],
      "text/plain": [
       "<pandas.io.formats.style.Styler at 0x266f1368730>"
      ]
     },
     "execution_count": 17,
     "metadata": {},
     "output_type": "execute_result"
    }
   ],
   "source": [
    "data[[\"id\" ,\"title\",\"runtime\",\"budget\",\"revenue\"]].sort_values(by=[\"runtime\",\"budget\",\"revenue\"] , ascending=False).head(10).style.background_gradient(subset =['runtime' , 'budget' , 'revenue'] , cmap='PuBu')"
   ]
  },
  {
   "cell_type": "markdown",
   "id": "105e0934",
   "metadata": {},
   "source": [
    "# Year in which most movies is released"
   ]
  },
  {
   "cell_type": "code",
   "execution_count": 18,
   "id": "889f1e39",
   "metadata": {
    "scrolled": false
   },
   "outputs": [
    {
     "data": {
      "text/plain": [
       "Text(0, 0.5, 'Total Movies')"
      ]
     },
     "execution_count": 18,
     "metadata": {},
     "output_type": "execute_result"
    },
    {
     "data": {
      "image/png": "[encoded data removed]",
      "text/plain": [
       "<Figure size 1080x360 with 1 Axes>"
      ]
     },
     "metadata": {},
     "output_type": "display_data"
    }
   ],
   "source": [
    "plt.figure(figsize= (15 , 5))\n",
    "sns.countplot(x = data[\"release_year\"].sort_values(ascending = True))\n",
    "plt.title(\"Total Movies vs Year\")\n",
    "plt.xlabel(\"Year\")\n",
    "plt.xticks(rotation = 90 , fontsize=8)\n",
    "plt.ylabel(\"Total Movies\")"
   ]
  },
  {
   "cell_type": "code",
   "execution_count": 19,
   "id": "0e16940a",
   "metadata": {},
   "outputs": [
    {
     "data": {
      "text/plain": [
       "2013    141\n",
       "2015    128\n",
       "2010    126\n",
       "2012    125\n",
       "2016    125\n",
       "Name: release_year, dtype: int64"
      ]
     },
     "execution_count": 19,
     "metadata": {},
     "output_type": "execute_result"
    }
   ],
   "source": [
    "data[\"release_year\"].value_counts().head()"
   ]
  },
  {
   "cell_type": "markdown",
   "id": "bf8a028b",
   "metadata": {},
   "source": [
    "##### In 2013 141 movies were released"
   ]
  },
  {
   "cell_type": "markdown",
   "id": "e3d4f203",
   "metadata": {},
   "source": [
    "# Movie with highest popularity"
   ]
  },
  {
   "cell_type": "code",
   "execution_count": 20,
   "id": "a107141f",
   "metadata": {
    "scrolled": true
   },
   "outputs": [
    {
     "data": {
      "text/html": [
       "<div>\n",
       "<style scoped>\n",
       "    .dataframe tbody tr th:only-of-type {\n",
       "        vertical-align: middle;\n",
       "    }\n",
       "\n",
       "    .dataframe tbody tr th {\n",
       "        vertical-align: top;\n",
       "    }\n",
       "\n",
       "    .dataframe thead th {\n",
       "        text-align: right;\n",
       "    }\n",
       "</style>\n",
       "<table border=\"1\" class=\"dataframe\">\n",
       "  <thead>\n",
       "    <tr style=\"text-align: right;\">\n",
       "      <th></th>\n",
       "      <th>id</th>\n",
       "      <th>original_title</th>\n",
       "      <th>popularity</th>\n",
       "    </tr>\n",
       "  </thead>\n",
       "  <tbody>\n",
       "    <tr>\n",
       "      <th>518</th>\n",
       "      <td>519</td>\n",
       "      <td>Wonder Woman</td>\n",
       "      <td>294.337037</td>\n",
       "    </tr>\n",
       "  </tbody>\n",
       "</table>\n",
       "</div>"
      ],
      "text/plain": [
       "      id original_title  popularity\n",
       "518  519   Wonder Woman  294.337037"
      ]
     },
     "execution_count": 20,
     "metadata": {},
     "output_type": "execute_result"
    }
   ],
   "source": [
    "data[data[\"popularity\"] == data[\"popularity\"].max()][[\"id\",\"original_title\" ,\"popularity\"]]"
   ]
  },
  {
   "cell_type": "markdown",
   "id": "bb50ae4d",
   "metadata": {},
   "source": [
    "# Movie with min popularity"
   ]
  },
  {
   "cell_type": "code",
   "execution_count": 21,
   "id": "2ba72fe6",
   "metadata": {},
   "outputs": [
    {
     "data": {
      "text/html": [
       "<div>\n",
       "<style scoped>\n",
       "    .dataframe tbody tr th:only-of-type {\n",
       "        vertical-align: middle;\n",
       "    }\n",
       "\n",
       "    .dataframe tbody tr th {\n",
       "        vertical-align: top;\n",
       "    }\n",
       "\n",
       "    .dataframe thead th {\n",
       "        text-align: right;\n",
       "    }\n",
       "</style>\n",
       "<table border=\"1\" class=\"dataframe\">\n",
       "  <thead>\n",
       "    <tr style=\"text-align: right;\">\n",
       "      <th></th>\n",
       "      <th>id</th>\n",
       "      <th>original_title</th>\n",
       "      <th>popularity</th>\n",
       "    </tr>\n",
       "  </thead>\n",
       "  <tbody>\n",
       "    <tr>\n",
       "      <th>2556</th>\n",
       "      <td>2557</td>\n",
       "      <td>Big Time</td>\n",
       "      <td>0.000001</td>\n",
       "    </tr>\n",
       "  </tbody>\n",
       "</table>\n",
       "</div>"
      ],
      "text/plain": [
       "        id original_title  popularity\n",
       "2556  2557       Big Time    0.000001"
      ]
     },
     "execution_count": 21,
     "metadata": {},
     "output_type": "execute_result"
    }
   ],
   "source": [
    "data[data[\"popularity\"] == data[\"popularity\"].min()][[\"id\",\"original_title\" ,\"popularity\"]]"
   ]
  },
  {
   "cell_type": "markdown",
   "id": "b5e8e8bd",
   "metadata": {},
   "source": [
    "# Popularity Distribution Plot"
   ]
  },
  {
   "cell_type": "code",
   "execution_count": 22,
   "id": "b98e89b6",
   "metadata": {},
   "outputs": [
    {
     "data": {
      "image/png": "[encoded data removed]",
      "text/plain": [
       "<Figure size 432x288 with 1 Axes>"
      ]
     },
     "metadata": {},
     "output_type": "display_data"
    }
   ],
   "source": [
    "plt.hist(data[\"popularity\"] , bins=40)\n",
    "plt.title(\"Movie Popularity Count\")\n",
    "plt.xlabel(\"Popularity\")\n",
    "plt.ylabel(\"Count\")\n",
    "plt.show()"
   ]
  },
  {
   "cell_type": "code",
   "execution_count": 23,
   "id": "b63ad7f4",
   "metadata": {},
   "outputs": [
    {
     "data": {
      "text/html": [
       "<div>\n",
       "<style scoped>\n",
       "    .dataframe tbody tr th:only-of-type {\n",
       "        vertical-align: middle;\n",
       "    }\n",
       "\n",
       "    .dataframe tbody tr th {\n",
       "        vertical-align: top;\n",
       "    }\n",
       "\n",
       "    .dataframe thead th {\n",
       "        text-align: right;\n",
       "    }\n",
       "</style>\n",
       "<table border=\"1\" class=\"dataframe\">\n",
       "  <thead>\n",
       "    <tr style=\"text-align: right;\">\n",
       "      <th></th>\n",
       "      <th>id</th>\n",
       "      <th>original_title</th>\n",
       "      <th>popularity</th>\n",
       "    </tr>\n",
       "  </thead>\n",
       "  <tbody>\n",
       "    <tr>\n",
       "      <th>518</th>\n",
       "      <td>519</td>\n",
       "      <td>Wonder Woman</td>\n",
       "      <td>294.337037</td>\n",
       "    </tr>\n",
       "  </tbody>\n",
       "</table>\n",
       "</div>"
      ],
      "text/plain": [
       "      id original_title  popularity\n",
       "518  519   Wonder Woman  294.337037"
      ]
     },
     "execution_count": 23,
     "metadata": {},
     "output_type": "execute_result"
    }
   ],
   "source": [
    "data[data[\"popularity\"] == data[\"popularity\"].max()][[\"id\",\"original_title\",\"popularity\"]]"
   ]
  },
  {
   "cell_type": "markdown",
   "id": "e326716d",
   "metadata": {},
   "source": [
    "##### Wonder Woman is the movie with highest popularity"
   ]
  },
  {
   "cell_type": "code",
   "execution_count": 24,
   "id": "43ba3c19",
   "metadata": {},
   "outputs": [
    {
     "data": {
      "text/html": [
       "<div>\n",
       "<style scoped>\n",
       "    .dataframe tbody tr th:only-of-type {\n",
       "        vertical-align: middle;\n",
       "    }\n",
       "\n",
       "    .dataframe tbody tr th {\n",
       "        vertical-align: top;\n",
       "    }\n",
       "\n",
       "    .dataframe thead th {\n",
       "        text-align: right;\n",
       "    }\n",
       "</style>\n",
       "<table border=\"1\" class=\"dataframe\">\n",
       "  <thead>\n",
       "    <tr style=\"text-align: right;\">\n",
       "      <th></th>\n",
       "      <th>id</th>\n",
       "      <th>original_title</th>\n",
       "      <th>popularity</th>\n",
       "    </tr>\n",
       "  </thead>\n",
       "  <tbody>\n",
       "    <tr>\n",
       "      <th>2556</th>\n",
       "      <td>2557</td>\n",
       "      <td>Big Time</td>\n",
       "      <td>0.000001</td>\n",
       "    </tr>\n",
       "  </tbody>\n",
       "</table>\n",
       "</div>"
      ],
      "text/plain": [
       "        id original_title  popularity\n",
       "2556  2557       Big Time    0.000001"
      ]
     },
     "execution_count": 24,
     "metadata": {},
     "output_type": "execute_result"
    }
   ],
   "source": [
    "data[data[\"popularity\"] == data[\"popularity\"].min()][[\"id\",\"original_title\",\"popularity\"]]"
   ]
  },
  {
   "cell_type": "markdown",
   "id": "81082b0e",
   "metadata": {},
   "source": [
    "##### Big Time is the movie with min popularity"
   ]
  },
  {
   "cell_type": "markdown",
   "id": "e2b09362",
   "metadata": {},
   "source": [
    "# Movies Count Per Mounth"
   ]
  },
  {
   "cell_type": "code",
   "execution_count": 25,
   "id": "91b8c26d",
   "metadata": {},
   "outputs": [
    {
     "data": {
      "image/png": "[encoded data removed]",
      "text/plain": [
       "<Figure size 720x360 with 1 Axes>"
      ]
     },
     "metadata": {},
     "output_type": "display_data"
    }
   ],
   "source": [
    "plt.figure(figsize = (10 , 5))\n",
    "sns.countplot(x = data[\"release_month\"].sort_values())\n",
    "plt.title(\"Movie Release Count By Month\")\n",
    "plt.xlabel(\"Month\")\n",
    "plt.ylabel(\"Count\")\n",
    "plt.show()"
   ]
  },
  {
   "cell_type": "code",
   "execution_count": 26,
   "id": "221eb905",
   "metadata": {
    "scrolled": true
   },
   "outputs": [
    {
     "data": {
      "text/plain": [
       "9     362\n",
       "10    307\n",
       "12    263\n",
       "8     256\n",
       "4     245\n",
       "3     238\n",
       "6     237\n",
       "2     226\n",
       "5     224\n",
       "11    221\n",
       "1     212\n",
       "7     209\n",
       "Name: release_month, dtype: int64"
      ]
     },
     "execution_count": 26,
     "metadata": {},
     "output_type": "execute_result"
    }
   ],
   "source": [
    "data[\"release_month\"].value_counts()"
   ]
  },
  {
   "cell_type": "code",
   "execution_count": 27,
   "id": "3d2e9151",
   "metadata": {
    "scrolled": true
   },
   "outputs": [
    {
     "data": {
      "text/plain": [
       "362"
      ]
     },
     "execution_count": 27,
     "metadata": {},
     "output_type": "execute_result"
    }
   ],
   "source": [
    "data[\"release_month\"].value_counts().max()"
   ]
  },
  {
   "cell_type": "markdown",
   "id": "b9cdbbc8",
   "metadata": {},
   "source": [
    "##### In september most movies were released"
   ]
  },
  {
   "cell_type": "markdown",
   "id": "2f958330",
   "metadata": {},
   "source": [
    "# Movies Count Per Date"
   ]
  },
  {
   "cell_type": "code",
   "execution_count": 28,
   "id": "63036bcb",
   "metadata": {},
   "outputs": [
    {
     "data": {
      "image/png": "[encoded data removed]",
      "text/plain": [
       "<Figure size 720x360 with 1 Axes>"
      ]
     },
     "metadata": {},
     "output_type": "display_data"
    }
   ],
   "source": [
    "plt.figure(figsize = (10 , 5))\n",
    "sns.countplot(x = data[\"release_day\"].sort_values())\n",
    "plt.title(\"Movie Release Count By Day\")\n",
    "plt.xlabel(\"Day\")\n",
    "plt.ylabel(\"Count\")\n",
    "plt.show()"
   ]
  },
  {
   "cell_type": "code",
   "execution_count": 29,
   "id": "4d584ec7",
   "metadata": {},
   "outputs": [
    {
     "data": {
      "text/plain": [
       "152"
      ]
     },
     "execution_count": 29,
     "metadata": {},
     "output_type": "execute_result"
    }
   ],
   "source": [
    "data[\"release_day\"].value_counts().max()"
   ]
  },
  {
   "cell_type": "markdown",
   "id": "dbfd302f",
   "metadata": {},
   "source": [
    "#### on the 1st day 152 movies were released which is in maximum number"
   ]
  },
  {
   "cell_type": "markdown",
   "id": "5520c764",
   "metadata": {},
   "source": [
    "# Movie Count Per Week"
   ]
  },
  {
   "cell_type": "code",
   "execution_count": 30,
   "id": "a09e6273",
   "metadata": {},
   "outputs": [
    {
     "data": {
      "image/png": "[encoded data removed]",
      "text/plain": [
       "<Figure size 720x360 with 1 Axes>"
      ]
     },
     "metadata": {},
     "output_type": "display_data"
    }
   ],
   "source": [
    "plt.figure(figsize = (10 , 5))\n",
    "sns.countplot(x = data[\"release_weekday\"].sort_values())\n",
    "plt.title(\"Movie Release Count By weekday\")\n",
    "plt.xlabel(\"Weekday\")\n",
    "plt.ylabel(\"Count\")\n",
    "plt.show()"
   ]
  },
  {
   "cell_type": "code",
   "execution_count": 31,
   "id": "a39b9450",
   "metadata": {
    "scrolled": true
   },
   "outputs": [
    {
     "data": {
      "text/plain": [
       "4    1333\n",
       "3     609\n",
       "2     449\n",
       "1     196\n",
       "5     156\n",
       "0     136\n",
       "6     121\n",
       "Name: release_weekday, dtype: int64"
      ]
     },
     "execution_count": 31,
     "metadata": {},
     "output_type": "execute_result"
    }
   ],
   "source": [
    "data[\"release_weekday\"].value_counts()"
   ]
  },
  {
   "cell_type": "markdown",
   "id": "078240cb",
   "metadata": {},
   "source": [
    "#### Highest Movies Were Released On Friday"
   ]
  },
  {
   "cell_type": "markdown",
   "id": "ec4e0425",
   "metadata": {},
   "source": [
    "<Center style=\"font-family: 'Helvetica Neue' ;font-size:35px; letter-spacing: 0.0625em ; color:white;background-image:url('black.jpg');padding:10px\">Made By : Abhay Bisht</Center>"
   ]
  }
 ],
 "metadata": {
  "kernelspec": {
   "display_name": "Python 3 (ipykernel)",
   "language": "python",
   "name": "python3"
  },
  "language_info": {
   "codemirror_mode": {
    "name": "ipython",
    "version": 3
   },
   "file_extension": ".py",
   "mimetype": "text/x-python",
   "name": "python",
   "nbconvert_exporter": "python",
   "pygments_lexer": "ipython3",
   "version": "3.9.7"
  }
 },
 "nbformat": 4,
 "nbformat_minor": 5
}
